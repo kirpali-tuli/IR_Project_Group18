{
  "cells": [
    {
      "cell_type": "code",
      "execution_count": null,
      "metadata": {
        "colab": {
          "base_uri": "https://localhost:8080/"
        },
        "id": "QeTRP-r2KQHc",
        "outputId": "32e06adb-f90b-4ece-cf39-2315685fc0c9"
      },
      "outputs": [
        {
          "output_type": "stream",
          "name": "stdout",
          "text": [
            "Drive already mounted at /content/drive; to attempt to forcibly remount, call drive.mount(\"/content/drive\", force_remount=True).\n"
          ]
        }
      ],
      "source": [
        "from google.colab import drive\n",
        "drive.mount('/content/drive')"
      ]
    },
    {
      "cell_type": "code",
      "execution_count": null,
      "metadata": {
        "id": "resAwnfMKYge"
      },
      "outputs": [],
      "source": [
        "import pickle\n",
        "import pandas as pd\n",
        "import seaborn as sns\n",
        "import matplotlib.pyplot as plt\n",
        "import re\n",
        "from sklearn.base import BaseEstimator, TransformerMixin\n",
        "import string\n",
        "import collections\n",
        "from sklearn.feature_extraction.text import CountVectorizer\n",
        "from sklearn.feature_extraction.text import TfidfVectorizer\n",
        "import gensim\n",
        "from nltk.corpus import stopwords\n",
        "from nltk.tokenize import word_tokenize\n",
        "import numpy as np\n",
        "from sklearn import model_selection, svm\n",
        "from sklearn.model_selection import train_test_split\n",
        "from sklearn.preprocessing import LabelEncoder\n",
        "from sklearn.linear_model import LogisticRegression\n",
        "from sklearn.metrics import accuracy_score, classification_report\n",
        "from sklearn.ensemble import RandomForestClassifier"
      ]
    },
    {
      "cell_type": "code",
      "execution_count": null,
      "metadata": {
        "colab": {
          "base_uri": "https://localhost:8080/"
        },
        "id": "HCjfIvXmDXqN",
        "outputId": "3b035529-a404-4c4b-fe9f-1abe3bc5bb65"
      },
      "outputs": [
        {
          "output_type": "stream",
          "name": "stdout",
          "text": [
            "[nltk_data] Downloading package stopwords to /root/nltk_data...\n",
            "[nltk_data]   Package stopwords is already up-to-date!\n",
            "[nltk_data] Downloading package punkt to /root/nltk_data...\n",
            "[nltk_data]   Package punkt is already up-to-date!\n"
          ]
        },
        {
          "output_type": "execute_result",
          "data": {
            "text/plain": [
              "True"
            ]
          },
          "metadata": {},
          "execution_count": 170
        }
      ],
      "source": [
        "import nltk\n",
        "nltk.download('stopwords')\n",
        "nltk.download('punkt')"
      ]
    },
    {
      "cell_type": "code",
      "execution_count": null,
      "metadata": {
        "id": "E7e8owAdIT2k"
      },
      "outputs": [],
      "source": [
        ""
      ]
    },
    {
      "cell_type": "code",
      "execution_count": null,
      "metadata": {
        "id": "026qW217K-tz"
      },
      "outputs": [],
      "source": [
        "with open('/content/drive/MyDrive/IR Project/Dataset/merged_training.pkl', 'rb') as f:\n",
        "    data = pickle.load(f)"
      ]
    },
    {
      "cell_type": "code",
      "execution_count": null,
      "metadata": {
        "id": "CLXwch4PLSs5"
      },
      "outputs": [],
      "source": [
        "df = pd.DataFrame(data)"
      ]
    },
    {
      "cell_type": "code",
      "execution_count": null,
      "metadata": {
        "colab": {
          "base_uri": "https://localhost:8080/"
        },
        "id": "Uxas8_ulLT_S",
        "outputId": "3dc3438f-02f0-446b-ee63-d63596f1c2b3"
      },
      "outputs": [
        {
          "output_type": "execute_result",
          "data": {
            "text/plain": [
              "joy         141067\n",
              "sadness     121187\n",
              "anger        57317\n",
              "fear         47712\n",
              "love         34554\n",
              "surprise     14972\n",
              "Name: emotions, dtype: int64"
            ]
          },
          "metadata": {},
          "execution_count": 174
        }
      ],
      "source": [
        "df['emotions'].value_counts()\n"
      ]
    },
    {
      "cell_type": "code",
      "execution_count": null,
      "metadata": {
        "colab": {
          "base_uri": "https://localhost:8080/",
          "height": 423
        },
        "id": "HJLjeo5QDLjX",
        "outputId": "eea2d4b3-5fd6-4313-d65e-0d1add4369a6"
      },
      "outputs": [
        {
          "output_type": "execute_result",
          "data": {
            "text/plain": [
              "                                                     text emotions\n",
              "27383   i feel awful about it too because it s my job ...  sadness\n",
              "110083                              im alone i feel awful  sadness\n",
              "140764  ive probably mentioned this before but i reall...      joy\n",
              "100071           i was feeling a little low few days back  sadness\n",
              "2837    i beleive that i am much more sensitive to oth...     love\n",
              "...                                                   ...      ...\n",
              "566     that was what i felt when i was finally accept...      joy\n",
              "36236   i take every day as it comes i m just focussin...     fear\n",
              "76229       i just suddenly feel that everything was fake  sadness\n",
              "131640  im feeling more eager than ever to claw back w...      joy\n",
              "64703   i give you plenty of attention even when i fee...  sadness\n",
              "\n",
              "[416809 rows x 2 columns]"
            ],
            "text/html": [
              "\n",
              "  <div id=\"df-a5f5eb5d-a956-4b1c-ad2c-fab23472983b\">\n",
              "    <div class=\"colab-df-container\">\n",
              "      <div>\n",
              "<style scoped>\n",
              "    .dataframe tbody tr th:only-of-type {\n",
              "        vertical-align: middle;\n",
              "    }\n",
              "\n",
              "    .dataframe tbody tr th {\n",
              "        vertical-align: top;\n",
              "    }\n",
              "\n",
              "    .dataframe thead th {\n",
              "        text-align: right;\n",
              "    }\n",
              "</style>\n",
              "<table border=\"1\" class=\"dataframe\">\n",
              "  <thead>\n",
              "    <tr style=\"text-align: right;\">\n",
              "      <th></th>\n",
              "      <th>text</th>\n",
              "      <th>emotions</th>\n",
              "    </tr>\n",
              "  </thead>\n",
              "  <tbody>\n",
              "    <tr>\n",
              "      <th>27383</th>\n",
              "      <td>i feel awful about it too because it s my job ...</td>\n",
              "      <td>sadness</td>\n",
              "    </tr>\n",
              "    <tr>\n",
              "      <th>110083</th>\n",
              "      <td>im alone i feel awful</td>\n",
              "      <td>sadness</td>\n",
              "    </tr>\n",
              "    <tr>\n",
              "      <th>140764</th>\n",
              "      <td>ive probably mentioned this before but i reall...</td>\n",
              "      <td>joy</td>\n",
              "    </tr>\n",
              "    <tr>\n",
              "      <th>100071</th>\n",
              "      <td>i was feeling a little low few days back</td>\n",
              "      <td>sadness</td>\n",
              "    </tr>\n",
              "    <tr>\n",
              "      <th>2837</th>\n",
              "      <td>i beleive that i am much more sensitive to oth...</td>\n",
              "      <td>love</td>\n",
              "    </tr>\n",
              "    <tr>\n",
              "      <th>...</th>\n",
              "      <td>...</td>\n",
              "      <td>...</td>\n",
              "    </tr>\n",
              "    <tr>\n",
              "      <th>566</th>\n",
              "      <td>that was what i felt when i was finally accept...</td>\n",
              "      <td>joy</td>\n",
              "    </tr>\n",
              "    <tr>\n",
              "      <th>36236</th>\n",
              "      <td>i take every day as it comes i m just focussin...</td>\n",
              "      <td>fear</td>\n",
              "    </tr>\n",
              "    <tr>\n",
              "      <th>76229</th>\n",
              "      <td>i just suddenly feel that everything was fake</td>\n",
              "      <td>sadness</td>\n",
              "    </tr>\n",
              "    <tr>\n",
              "      <th>131640</th>\n",
              "      <td>im feeling more eager than ever to claw back w...</td>\n",
              "      <td>joy</td>\n",
              "    </tr>\n",
              "    <tr>\n",
              "      <th>64703</th>\n",
              "      <td>i give you plenty of attention even when i fee...</td>\n",
              "      <td>sadness</td>\n",
              "    </tr>\n",
              "  </tbody>\n",
              "</table>\n",
              "<p>416809 rows × 2 columns</p>\n",
              "</div>\n",
              "      <button class=\"colab-df-convert\" onclick=\"convertToInteractive('df-a5f5eb5d-a956-4b1c-ad2c-fab23472983b')\"\n",
              "              title=\"Convert this dataframe to an interactive table.\"\n",
              "              style=\"display:none;\">\n",
              "        \n",
              "  <svg xmlns=\"http://www.w3.org/2000/svg\" height=\"24px\"viewBox=\"0 0 24 24\"\n",
              "       width=\"24px\">\n",
              "    <path d=\"M0 0h24v24H0V0z\" fill=\"none\"/>\n",
              "    <path d=\"M18.56 5.44l.94 2.06.94-2.06 2.06-.94-2.06-.94-.94-2.06-.94 2.06-2.06.94zm-11 1L8.5 8.5l.94-2.06 2.06-.94-2.06-.94L8.5 2.5l-.94 2.06-2.06.94zm10 10l.94 2.06.94-2.06 2.06-.94-2.06-.94-.94-2.06-.94 2.06-2.06.94z\"/><path d=\"M17.41 7.96l-1.37-1.37c-.4-.4-.92-.59-1.43-.59-.52 0-1.04.2-1.43.59L10.3 9.45l-7.72 7.72c-.78.78-.78 2.05 0 2.83L4 21.41c.39.39.9.59 1.41.59.51 0 1.02-.2 1.41-.59l7.78-7.78 2.81-2.81c.8-.78.8-2.07 0-2.86zM5.41 20L4 18.59l7.72-7.72 1.47 1.35L5.41 20z\"/>\n",
              "  </svg>\n",
              "      </button>\n",
              "      \n",
              "  <style>\n",
              "    .colab-df-container {\n",
              "      display:flex;\n",
              "      flex-wrap:wrap;\n",
              "      gap: 12px;\n",
              "    }\n",
              "\n",
              "    .colab-df-convert {\n",
              "      background-color: #E8F0FE;\n",
              "      border: none;\n",
              "      border-radius: 50%;\n",
              "      cursor: pointer;\n",
              "      display: none;\n",
              "      fill: #1967D2;\n",
              "      height: 32px;\n",
              "      padding: 0 0 0 0;\n",
              "      width: 32px;\n",
              "    }\n",
              "\n",
              "    .colab-df-convert:hover {\n",
              "      background-color: #E2EBFA;\n",
              "      box-shadow: 0px 1px 2px rgba(60, 64, 67, 0.3), 0px 1px 3px 1px rgba(60, 64, 67, 0.15);\n",
              "      fill: #174EA6;\n",
              "    }\n",
              "\n",
              "    [theme=dark] .colab-df-convert {\n",
              "      background-color: #3B4455;\n",
              "      fill: #D2E3FC;\n",
              "    }\n",
              "\n",
              "    [theme=dark] .colab-df-convert:hover {\n",
              "      background-color: #434B5C;\n",
              "      box-shadow: 0px 1px 3px 1px rgba(0, 0, 0, 0.15);\n",
              "      filter: drop-shadow(0px 1px 2px rgba(0, 0, 0, 0.3));\n",
              "      fill: #FFFFFF;\n",
              "    }\n",
              "  </style>\n",
              "\n",
              "      <script>\n",
              "        const buttonEl =\n",
              "          document.querySelector('#df-a5f5eb5d-a956-4b1c-ad2c-fab23472983b button.colab-df-convert');\n",
              "        buttonEl.style.display =\n",
              "          google.colab.kernel.accessAllowed ? 'block' : 'none';\n",
              "\n",
              "        async function convertToInteractive(key) {\n",
              "          const element = document.querySelector('#df-a5f5eb5d-a956-4b1c-ad2c-fab23472983b');\n",
              "          const dataTable =\n",
              "            await google.colab.kernel.invokeFunction('convertToInteractive',\n",
              "                                                     [key], {});\n",
              "          if (!dataTable) return;\n",
              "\n",
              "          const docLinkHtml = 'Like what you see? Visit the ' +\n",
              "            '<a target=\"_blank\" href=https://colab.research.google.com/notebooks/data_table.ipynb>data table notebook</a>'\n",
              "            + ' to learn more about interactive tables.';\n",
              "          element.innerHTML = '';\n",
              "          dataTable['output_type'] = 'display_data';\n",
              "          await google.colab.output.renderOutput(dataTable, element);\n",
              "          const docLink = document.createElement('div');\n",
              "          docLink.innerHTML = docLinkHtml;\n",
              "          element.appendChild(docLink);\n",
              "        }\n",
              "      </script>\n",
              "    </div>\n",
              "  </div>\n",
              "  "
            ]
          },
          "metadata": {},
          "execution_count": 175
        }
      ],
      "source": [
        "df"
      ]
    },
    {
      "cell_type": "code",
      "execution_count": null,
      "metadata": {
        "id": "13IMU-2ILgAZ"
      },
      "outputs": [],
      "source": [
        "#Dropping Surprise\n",
        "df = df[df['emotions']!='surprise']"
      ]
    },
    {
      "cell_type": "code",
      "execution_count": null,
      "metadata": {
        "colab": {
          "base_uri": "https://localhost:8080/"
        },
        "id": "e2vrP3xg8DSf",
        "outputId": "0c11187f-3238-45c2-a8c4-63bcf80b0cd3"
      },
      "outputs": [
        {
          "output_type": "execute_result",
          "data": {
            "text/plain": [
              "joy        141067\n",
              "sadness    121187\n",
              "anger       57317\n",
              "fear        47712\n",
              "love        34554\n",
              "Name: emotions, dtype: int64"
            ]
          },
          "metadata": {},
          "execution_count": 177
        }
      ],
      "source": [
        "df['emotions'].value_counts()"
      ]
    },
    {
      "cell_type": "markdown",
      "metadata": {
        "id": "IK4s5eAg-DO2"
      },
      "source": [
        "# Preprocessing"
      ]
    },
    {
      "cell_type": "code",
      "execution_count": null,
      "metadata": {
        "id": "Up6ZMgkrEcBW"
      },
      "outputs": [],
      "source": [
        "#For text cleaning and preprocessing - reference taken from https://towardsdatascience.com/sentiment-analysis-with-text-mining-13dd2b33de27"
      ]
    },
    {
      "cell_type": "code",
      "execution_count": null,
      "metadata": {
        "id": "DIeQo8x7CQnz"
      },
      "outputs": [],
      "source": [
        "class preprocess(BaseEstimator, TransformerMixin):\n",
        "    def no_instanced(self, text_values):\n",
        "        return re.sub(r'@\\w+', '', text_values)\n",
        "    \n",
        "    def urls_delete(self, text_values):\n",
        "        return re.sub(r'http.?://[^\\s]+[\\s]?', '', text_values)\n",
        "    \n",
        "    def process_emoticon(self, text_values):\n",
        "        return text_values.replace('_','')\n",
        "    \n",
        "    def no_puntc(self, text_values):\n",
        "        punctuation_words = string.punctuation\n",
        "        punc_to_space = str.maketrans(punctuation_words, len(punctuation_words)*' ') \n",
        "        return text_values.translate(punc_to_space)\n",
        "    \n",
        "    def no_numerics(self, text_values):\n",
        "        return re.sub('\\d+', '', text_values)\n",
        "    \n",
        "    def convert_tolower(self, text_values):\n",
        "        return text_values.lower()\n",
        "    \n",
        "    def no_stopwords(self, text_values):\n",
        "        rm_stopwords = stopwords.words('english')\n",
        "        blockwords = [\"n't\", \"not\", \"no\"]\n",
        "        words = text_values.split() \n",
        "        clean_words = [word for word in words if (word not in rm_stopwords or word in blockwords) and len(word) > 1] \n",
        "        return \" \".join(clean_words) \n",
        "    \n",
        "    def fit(self, X, y=None, **fit_params):\n",
        "        return self\n",
        "    \n",
        "    def transform(self, X, **transform_params):\n",
        "        clean_X = X.apply(self.no_instanced).apply(self.urls_delete).apply(self.process_emoticon).apply(self.no_puntc).apply(self.no_numerics).apply(self.convert_tolower).apply(self.no_stopwords)\n",
        "        return clean_X"
      ]
    },
    {
      "cell_type": "code",
      "execution_count": null,
      "metadata": {
        "id": "Vj8gBY6gDEoO"
      },
      "outputs": [],
      "source": [
        "pp = preprocess()\n",
        "cleaned_text = pp.fit_transform(df.text)"
      ]
    },
    {
      "cell_type": "code",
      "execution_count": null,
      "metadata": {
        "id": "7aKR9m5uDNRU",
        "colab": {
          "base_uri": "https://localhost:8080/"
        },
        "outputId": "4cb67a3d-6e18-4b1e-986a-e9f70e76a7df"
      },
      "outputs": [
        {
          "output_type": "execute_result",
          "data": {
            "text/plain": [
              "27383            feel awful job get position succeed happen\n",
              "110083                                  im alone feel awful\n",
              "140764    ive probably mentioned really feel proud actua...\n",
              "100071                         feeling little low days back\n",
              "2837      beleive much sensitive peoples feelings tend c...\n",
              "                                ...                        \n",
              "566       felt finally accepted bulgarian conservatorie ...\n",
              "36236     take every day comes focussing eating better m...\n",
              "76229                         suddenly feel everything fake\n",
              "131640    im feeling eager ever claw back went pear shap...\n",
              "64703     give plenty attention even feel utterly miserable\n",
              "Name: text, Length: 401837, dtype: object"
            ]
          },
          "metadata": {},
          "execution_count": 181
        }
      ],
      "source": [
        "cleaned_text"
      ]
    },
    {
      "cell_type": "code",
      "execution_count": null,
      "metadata": {
        "id": "lCbQ2iffEnfZ",
        "colab": {
          "base_uri": "https://localhost:8080/"
        },
        "outputId": "c064eccb-7854-4e06-ee3b-b5c3371a7267"
      },
      "outputs": [
        {
          "output_type": "execute_result",
          "data": {
            "text/plain": [
              "0"
            ]
          },
          "metadata": {},
          "execution_count": 182
        }
      ],
      "source": [
        "cleaned_text.isnull().sum()"
      ]
    },
    {
      "cell_type": "markdown",
      "source": [
        ""
      ],
      "metadata": {
        "id": "o-1i-XHgGX-X"
      }
    },
    {
      "cell_type": "code",
      "execution_count": null,
      "metadata": {
        "id": "2mK6ImohFdnH",
        "colab": {
          "base_uri": "https://localhost:8080/"
        },
        "outputId": "2bb87028-b2a4-4436-8c9b-28341ea63bfa"
      },
      "outputs": [
        {
          "output_type": "stream",
          "name": "stderr",
          "text": [
            "/usr/local/lib/python3.7/dist-packages/sklearn/utils/deprecation.py:87: FutureWarning: Function get_feature_names is deprecated; get_feature_names is deprecated in 1.0 and will be removed in 1.2. Please use get_feature_names_out instead.\n",
            "  warnings.warn(msg, category=FutureWarning)\n"
          ]
        }
      ],
      "source": [
        "#Lets see what are most frequently used words\n",
        "vectors_counting = CountVectorizer()\n",
        "BOW = vectors_counting.fit_transform(cleaned_text)\n",
        "find_frequency = dict(zip(vectors_counting.get_feature_names(),np.asarray(BOW.sum(axis=0)).ravel()))"
      ]
    },
    {
      "cell_type": "code",
      "execution_count": null,
      "metadata": {
        "id": "nhpNxoSQIDF9",
        "colab": {
          "base_uri": "https://localhost:8080/",
          "height": 714
        },
        "outputId": "30187998-bf16-4f36-a9d4-5465b1cdad2b"
      },
      "outputs": [
        {
          "output_type": "display_data",
          "data": {
            "text/plain": [
              "<Figure size 1008x864 with 1 Axes>"
            ],
            "image/png": "[encoded data removed]"
          },
          "metadata": {
            "needs_background": "light"
          }
        }
      ],
      "source": [
        "# count = collections.Counter(find_frequency)\n",
        "# count_dataframe = pd.DataFrame(count.most_common(25), columns = ['words', 'frequency'])\n",
        "# fig, ax = plt.subplots(figsize=(14, 12))\n",
        "# sns.barplot(x=\"words\", y=\"frequency\", data=count_dataframe, palette=\"Blues\", ax=ax)\n",
        "# plt.show();"
      ]
    },
    {
      "cell_type": "code",
      "execution_count": null,
      "metadata": {
        "id": "-rAc5e0hIa9t"
      },
      "outputs": [],
      "source": [
        "#Creating a test set"
      ]
    },
    {
      "cell_type": "code",
      "execution_count": null,
      "metadata": {
        "id": "5XCGsLYwJ70Z"
      },
      "outputs": [],
      "source": [
        "dataframe_copy = df"
      ]
    },
    {
      "cell_type": "code",
      "execution_count": null,
      "metadata": {
        "id": "dW4XFuHhKf0F",
        "colab": {
          "base_uri": "https://localhost:8080/"
        },
        "outputId": "f3d7619a-5bec-49e1-e19e-317b42e3cf61"
      },
      "outputs": [
        {
          "output_type": "stream",
          "name": "stderr",
          "text": [
            "/usr/local/lib/python3.7/dist-packages/ipykernel_launcher.py:1: SettingWithCopyWarning: \n",
            "A value is trying to be set on a copy of a slice from a DataFrame.\n",
            "Try using .loc[row_indexer,col_indexer] = value instead\n",
            "\n",
            "See the caveats in the documentation: https://pandas.pydata.org/pandas-docs/stable/user_guide/indexing.html#returning-a-view-versus-a-copy\n",
            "  \"\"\"Entry point for launching an IPython kernel.\n"
          ]
        }
      ],
      "source": [
        "dataframe_copy['preprocessed_sentence'] = cleaned_text"
      ]
    },
    {
      "cell_type": "code",
      "execution_count": null,
      "metadata": {
        "id": "bTHShVnLKgek"
      },
      "outputs": [],
      "source": [
        "dataframe_copy = dataframe_copy.drop(columns=['text'])"
      ]
    },
    {
      "cell_type": "code",
      "execution_count": null,
      "metadata": {
        "id": "Olr_IhijKuR_",
        "colab": {
          "base_uri": "https://localhost:8080/",
          "height": 423
        },
        "outputId": "308f342a-2731-4e01-d735-21f26888c8ed"
      },
      "outputs": [
        {
          "output_type": "execute_result",
          "data": {
            "text/plain": [
              "       emotions                              preprocessed_sentence\n",
              "27383   sadness         feel awful job get position succeed happen\n",
              "110083  sadness                                im alone feel awful\n",
              "140764      joy  ive probably mentioned really feel proud actua...\n",
              "100071  sadness                       feeling little low days back\n",
              "2837       love  beleive much sensitive peoples feelings tend c...\n",
              "...         ...                                                ...\n",
              "566         joy  felt finally accepted bulgarian conservatorie ...\n",
              "36236      fear  take every day comes focussing eating better m...\n",
              "76229   sadness                      suddenly feel everything fake\n",
              "131640      joy  im feeling eager ever claw back went pear shap...\n",
              "64703   sadness  give plenty attention even feel utterly miserable\n",
              "\n",
              "[401837 rows x 2 columns]"
            ],
            "text/html": [
              "\n",
              "  <div id=\"df-a7004d5d-5f24-4161-9d9c-2dec8537eb49\">\n",
              "    <div class=\"colab-df-container\">\n",
              "      <div>\n",
              "<style scoped>\n",
              "    .dataframe tbody tr th:only-of-type {\n",
              "        vertical-align: middle;\n",
              "    }\n",
              "\n",
              "    .dataframe tbody tr th {\n",
              "        vertical-align: top;\n",
              "    }\n",
              "\n",
              "    .dataframe thead th {\n",
              "        text-align: right;\n",
              "    }\n",
              "</style>\n",
              "<table border=\"1\" class=\"dataframe\">\n",
              "  <thead>\n",
              "    <tr style=\"text-align: right;\">\n",
              "      <th></th>\n",
              "      <th>emotions</th>\n",
              "      <th>preprocessed_sentence</th>\n",
              "    </tr>\n",
              "  </thead>\n",
              "  <tbody>\n",
              "    <tr>\n",
              "      <th>27383</th>\n",
              "      <td>sadness</td>\n",
              "      <td>feel awful job get position succeed happen</td>\n",
              "    </tr>\n",
              "    <tr>\n",
              "      <th>110083</th>\n",
              "      <td>sadness</td>\n",
              "      <td>im alone feel awful</td>\n",
              "    </tr>\n",
              "    <tr>\n",
              "      <th>140764</th>\n",
              "      <td>joy</td>\n",
              "      <td>ive probably mentioned really feel proud actua...</td>\n",
              "    </tr>\n",
              "    <tr>\n",
              "      <th>100071</th>\n",
              "      <td>sadness</td>\n",
              "      <td>feeling little low days back</td>\n",
              "    </tr>\n",
              "    <tr>\n",
              "      <th>2837</th>\n",
              "      <td>love</td>\n",
              "      <td>beleive much sensitive peoples feelings tend c...</td>\n",
              "    </tr>\n",
              "    <tr>\n",
              "      <th>...</th>\n",
              "      <td>...</td>\n",
              "      <td>...</td>\n",
              "    </tr>\n",
              "    <tr>\n",
              "      <th>566</th>\n",
              "      <td>joy</td>\n",
              "      <td>felt finally accepted bulgarian conservatorie ...</td>\n",
              "    </tr>\n",
              "    <tr>\n",
              "      <th>36236</th>\n",
              "      <td>fear</td>\n",
              "      <td>take every day comes focussing eating better m...</td>\n",
              "    </tr>\n",
              "    <tr>\n",
              "      <th>76229</th>\n",
              "      <td>sadness</td>\n",
              "      <td>suddenly feel everything fake</td>\n",
              "    </tr>\n",
              "    <tr>\n",
              "      <th>131640</th>\n",
              "      <td>joy</td>\n",
              "      <td>im feeling eager ever claw back went pear shap...</td>\n",
              "    </tr>\n",
              "    <tr>\n",
              "      <th>64703</th>\n",
              "      <td>sadness</td>\n",
              "      <td>give plenty attention even feel utterly miserable</td>\n",
              "    </tr>\n",
              "  </tbody>\n",
              "</table>\n",
              "<p>401837 rows × 2 columns</p>\n",
              "</div>\n",
              "      <button class=\"colab-df-convert\" onclick=\"convertToInteractive('df-a7004d5d-5f24-4161-9d9c-2dec8537eb49')\"\n",
              "              title=\"Convert this dataframe to an interactive table.\"\n",
              "              style=\"display:none;\">\n",
              "        \n",
              "  <svg xmlns=\"http://www.w3.org/2000/svg\" height=\"24px\"viewBox=\"0 0 24 24\"\n",
              "       width=\"24px\">\n",
              "    <path d=\"M0 0h24v24H0V0z\" fill=\"none\"/>\n",
              "    <path d=\"M18.56 5.44l.94 2.06.94-2.06 2.06-.94-2.06-.94-.94-2.06-.94 2.06-2.06.94zm-11 1L8.5 8.5l.94-2.06 2.06-.94-2.06-.94L8.5 2.5l-.94 2.06-2.06.94zm10 10l.94 2.06.94-2.06 2.06-.94-2.06-.94-.94-2.06-.94 2.06-2.06.94z\"/><path d=\"M17.41 7.96l-1.37-1.37c-.4-.4-.92-.59-1.43-.59-.52 0-1.04.2-1.43.59L10.3 9.45l-7.72 7.72c-.78.78-.78 2.05 0 2.83L4 21.41c.39.39.9.59 1.41.59.51 0 1.02-.2 1.41-.59l7.78-7.78 2.81-2.81c.8-.78.8-2.07 0-2.86zM5.41 20L4 18.59l7.72-7.72 1.47 1.35L5.41 20z\"/>\n",
              "  </svg>\n",
              "      </button>\n",
              "      \n",
              "  <style>\n",
              "    .colab-df-container {\n",
              "      display:flex;\n",
              "      flex-wrap:wrap;\n",
              "      gap: 12px;\n",
              "    }\n",
              "\n",
              "    .colab-df-convert {\n",
              "      background-color: #E8F0FE;\n",
              "      border: none;\n",
              "      border-radius: 50%;\n",
              "      cursor: pointer;\n",
              "      display: none;\n",
              "      fill: #1967D2;\n",
              "      height: 32px;\n",
              "      padding: 0 0 0 0;\n",
              "      width: 32px;\n",
              "    }\n",
              "\n",
              "    .colab-df-convert:hover {\n",
              "      background-color: #E2EBFA;\n",
              "      box-shadow: 0px 1px 2px rgba(60, 64, 67, 0.3), 0px 1px 3px 1px rgba(60, 64, 67, 0.15);\n",
              "      fill: #174EA6;\n",
              "    }\n",
              "\n",
              "    [theme=dark] .colab-df-convert {\n",
              "      background-color: #3B4455;\n",
              "      fill: #D2E3FC;\n",
              "    }\n",
              "\n",
              "    [theme=dark] .colab-df-convert:hover {\n",
              "      background-color: #434B5C;\n",
              "      box-shadow: 0px 1px 3px 1px rgba(0, 0, 0, 0.15);\n",
              "      filter: drop-shadow(0px 1px 2px rgba(0, 0, 0, 0.3));\n",
              "      fill: #FFFFFF;\n",
              "    }\n",
              "  </style>\n",
              "\n",
              "      <script>\n",
              "        const buttonEl =\n",
              "          document.querySelector('#df-a7004d5d-5f24-4161-9d9c-2dec8537eb49 button.colab-df-convert');\n",
              "        buttonEl.style.display =\n",
              "          google.colab.kernel.accessAllowed ? 'block' : 'none';\n",
              "\n",
              "        async function convertToInteractive(key) {\n",
              "          const element = document.querySelector('#df-a7004d5d-5f24-4161-9d9c-2dec8537eb49');\n",
              "          const dataTable =\n",
              "            await google.colab.kernel.invokeFunction('convertToInteractive',\n",
              "                                                     [key], {});\n",
              "          if (!dataTable) return;\n",
              "\n",
              "          const docLinkHtml = 'Like what you see? Visit the ' +\n",
              "            '<a target=\"_blank\" href=https://colab.research.google.com/notebooks/data_table.ipynb>data table notebook</a>'\n",
              "            + ' to learn more about interactive tables.';\n",
              "          element.innerHTML = '';\n",
              "          dataTable['output_type'] = 'display_data';\n",
              "          await google.colab.output.renderOutput(dataTable, element);\n",
              "          const docLink = document.createElement('div');\n",
              "          docLink.innerHTML = docLinkHtml;\n",
              "          element.appendChild(docLink);\n",
              "        }\n",
              "      </script>\n",
              "    </div>\n",
              "  </div>\n",
              "  "
            ]
          },
          "metadata": {},
          "execution_count": 189
        }
      ],
      "source": [
        "dataframe_copy"
      ]
    },
    {
      "cell_type": "code",
      "source": [
        "dataframe_new=dataframe_copy.drop('emotions', axis=1)"
      ],
      "metadata": {
        "id": "9wwrgOt3G43P"
      },
      "execution_count": null,
      "outputs": []
    },
    {
      "cell_type": "code",
      "execution_count": null,
      "metadata": {
        "id": "Rf544vJFLBkB"
      },
      "outputs": [],
      "source": [
        "X_train, X_test, y_train, y_test = train_test_split(dataframe_new, dataframe_copy.emotions, test_size=0.2, random_state=41)"
      ]
    },
    {
      "cell_type": "code",
      "execution_count": null,
      "metadata": {
        "id": "qFGgzm4zShiM",
        "colab": {
          "base_uri": "https://localhost:8080/",
          "height": 423
        },
        "outputId": "4c708c39-7604-45e5-ed34-53da9ff86fb1"
      },
      "outputs": [
        {
          "output_type": "execute_result",
          "data": {
            "text/plain": [
              "                                   preprocessed_sentence\n",
              "17175                      cant help feel amused reading\n",
              "29573                 feel vaguely dissatisfied recovery\n",
              "9684   creep factor effectively emulated feel cold wa...\n",
              "66745  feel everything precious started fade away esp...\n",
              "97737  loved way friendship springs romance realized ...\n",
              "...                                                  ...\n",
              "25170      guess im trying say feeling overwhelmed bites\n",
              "9567   starting feel like sitting much less sitting c...\n",
              "11783  feel like ive running around without sense dir...\n",
              "60910  feel disturbed recent experiences believe open...\n",
              "72309  feel tonight eve tomorrows graduation ecstatic...\n",
              "\n",
              "[321469 rows x 1 columns]"
            ],
            "text/html": [
              "\n",
              "  <div id=\"df-c9b033e3-f091-4d80-ae69-d0aced79b7a7\">\n",
              "    <div class=\"colab-df-container\">\n",
              "      <div>\n",
              "<style scoped>\n",
              "    .dataframe tbody tr th:only-of-type {\n",
              "        vertical-align: middle;\n",
              "    }\n",
              "\n",
              "    .dataframe tbody tr th {\n",
              "        vertical-align: top;\n",
              "    }\n",
              "\n",
              "    .dataframe thead th {\n",
              "        text-align: right;\n",
              "    }\n",
              "</style>\n",
              "<table border=\"1\" class=\"dataframe\">\n",
              "  <thead>\n",
              "    <tr style=\"text-align: right;\">\n",
              "      <th></th>\n",
              "      <th>preprocessed_sentence</th>\n",
              "    </tr>\n",
              "  </thead>\n",
              "  <tbody>\n",
              "    <tr>\n",
              "      <th>17175</th>\n",
              "      <td>cant help feel amused reading</td>\n",
              "    </tr>\n",
              "    <tr>\n",
              "      <th>29573</th>\n",
              "      <td>feel vaguely dissatisfied recovery</td>\n",
              "    </tr>\n",
              "    <tr>\n",
              "      <th>9684</th>\n",
              "      <td>creep factor effectively emulated feel cold wa...</td>\n",
              "    </tr>\n",
              "    <tr>\n",
              "      <th>66745</th>\n",
              "      <td>feel everything precious started fade away esp...</td>\n",
              "    </tr>\n",
              "    <tr>\n",
              "      <th>97737</th>\n",
              "      <td>loved way friendship springs romance realized ...</td>\n",
              "    </tr>\n",
              "    <tr>\n",
              "      <th>...</th>\n",
              "      <td>...</td>\n",
              "    </tr>\n",
              "    <tr>\n",
              "      <th>25170</th>\n",
              "      <td>guess im trying say feeling overwhelmed bites</td>\n",
              "    </tr>\n",
              "    <tr>\n",
              "      <th>9567</th>\n",
              "      <td>starting feel like sitting much less sitting c...</td>\n",
              "    </tr>\n",
              "    <tr>\n",
              "      <th>11783</th>\n",
              "      <td>feel like ive running around without sense dir...</td>\n",
              "    </tr>\n",
              "    <tr>\n",
              "      <th>60910</th>\n",
              "      <td>feel disturbed recent experiences believe open...</td>\n",
              "    </tr>\n",
              "    <tr>\n",
              "      <th>72309</th>\n",
              "      <td>feel tonight eve tomorrows graduation ecstatic...</td>\n",
              "    </tr>\n",
              "  </tbody>\n",
              "</table>\n",
              "<p>321469 rows × 1 columns</p>\n",
              "</div>\n",
              "      <button class=\"colab-df-convert\" onclick=\"convertToInteractive('df-c9b033e3-f091-4d80-ae69-d0aced79b7a7')\"\n",
              "              title=\"Convert this dataframe to an interactive table.\"\n",
              "              style=\"display:none;\">\n",
              "        \n",
              "  <svg xmlns=\"http://www.w3.org/2000/svg\" height=\"24px\"viewBox=\"0 0 24 24\"\n",
              "       width=\"24px\">\n",
              "    <path d=\"M0 0h24v24H0V0z\" fill=\"none\"/>\n",
              "    <path d=\"M18.56 5.44l.94 2.06.94-2.06 2.06-.94-2.06-.94-.94-2.06-.94 2.06-2.06.94zm-11 1L8.5 8.5l.94-2.06 2.06-.94-2.06-.94L8.5 2.5l-.94 2.06-2.06.94zm10 10l.94 2.06.94-2.06 2.06-.94-2.06-.94-.94-2.06-.94 2.06-2.06.94z\"/><path d=\"M17.41 7.96l-1.37-1.37c-.4-.4-.92-.59-1.43-.59-.52 0-1.04.2-1.43.59L10.3 9.45l-7.72 7.72c-.78.78-.78 2.05 0 2.83L4 21.41c.39.39.9.59 1.41.59.51 0 1.02-.2 1.41-.59l7.78-7.78 2.81-2.81c.8-.78.8-2.07 0-2.86zM5.41 20L4 18.59l7.72-7.72 1.47 1.35L5.41 20z\"/>\n",
              "  </svg>\n",
              "      </button>\n",
              "      \n",
              "  <style>\n",
              "    .colab-df-container {\n",
              "      display:flex;\n",
              "      flex-wrap:wrap;\n",
              "      gap: 12px;\n",
              "    }\n",
              "\n",
              "    .colab-df-convert {\n",
              "      background-color: #E8F0FE;\n",
              "      border: none;\n",
              "      border-radius: 50%;\n",
              "      cursor: pointer;\n",
              "      display: none;\n",
              "      fill: #1967D2;\n",
              "      height: 32px;\n",
              "      padding: 0 0 0 0;\n",
              "      width: 32px;\n",
              "    }\n",
              "\n",
              "    .colab-df-convert:hover {\n",
              "      background-color: #E2EBFA;\n",
              "      box-shadow: 0px 1px 2px rgba(60, 64, 67, 0.3), 0px 1px 3px 1px rgba(60, 64, 67, 0.15);\n",
              "      fill: #174EA6;\n",
              "    }\n",
              "\n",
              "    [theme=dark] .colab-df-convert {\n",
              "      background-color: #3B4455;\n",
              "      fill: #D2E3FC;\n",
              "    }\n",
              "\n",
              "    [theme=dark] .colab-df-convert:hover {\n",
              "      background-color: #434B5C;\n",
              "      box-shadow: 0px 1px 3px 1px rgba(0, 0, 0, 0.15);\n",
              "      filter: drop-shadow(0px 1px 2px rgba(0, 0, 0, 0.3));\n",
              "      fill: #FFFFFF;\n",
              "    }\n",
              "  </style>\n",
              "\n",
              "      <script>\n",
              "        const buttonEl =\n",
              "          document.querySelector('#df-c9b033e3-f091-4d80-ae69-d0aced79b7a7 button.colab-df-convert');\n",
              "        buttonEl.style.display =\n",
              "          google.colab.kernel.accessAllowed ? 'block' : 'none';\n",
              "\n",
              "        async function convertToInteractive(key) {\n",
              "          const element = document.querySelector('#df-c9b033e3-f091-4d80-ae69-d0aced79b7a7');\n",
              "          const dataTable =\n",
              "            await google.colab.kernel.invokeFunction('convertToInteractive',\n",
              "                                                     [key], {});\n",
              "          if (!dataTable) return;\n",
              "\n",
              "          const docLinkHtml = 'Like what you see? Visit the ' +\n",
              "            '<a target=\"_blank\" href=https://colab.research.google.com/notebooks/data_table.ipynb>data table notebook</a>'\n",
              "            + ' to learn more about interactive tables.';\n",
              "          element.innerHTML = '';\n",
              "          dataTable['output_type'] = 'display_data';\n",
              "          await google.colab.output.renderOutput(dataTable, element);\n",
              "          const docLink = document.createElement('div');\n",
              "          docLink.innerHTML = docLinkHtml;\n",
              "          element.appendChild(docLink);\n",
              "        }\n",
              "      </script>\n",
              "    </div>\n",
              "  </div>\n",
              "  "
            ]
          },
          "metadata": {},
          "execution_count": 191
        }
      ],
      "source": [
        "X_train"
      ]
    },
    {
      "cell_type": "markdown",
      "metadata": {
        "id": "l3MXRNCKNQSM"
      },
      "source": [
        "## Converting Word to Vectors"
      ]
    },
    {
      "cell_type": "code",
      "execution_count": null,
      "metadata": {
        "id": "ZCoH40TVMtAY"
      },
      "outputs": [],
      "source": [
        "X_train['splitted_words'] = X_train.preprocessed_sentence.apply(lambda x : word_tokenize(x))\n",
        "X_test['splitted_words'] = X_test.preprocessed_sentence.apply(lambda x : word_tokenize(x))\n"
      ]
    },
    {
      "cell_type": "code",
      "execution_count": null,
      "metadata": {
        "id": "bi7ehmuYSXdF",
        "colab": {
          "base_uri": "https://localhost:8080/",
          "height": 423
        },
        "outputId": "55dca87b-3222-4c1c-bd66-0526155ed2ee"
      },
      "outputs": [
        {
          "output_type": "execute_result",
          "data": {
            "text/plain": [
              "                                   preprocessed_sentence  \\\n",
              "17175                      cant help feel amused reading   \n",
              "29573                 feel vaguely dissatisfied recovery   \n",
              "9684   creep factor effectively emulated feel cold wa...   \n",
              "66745  feel everything precious started fade away esp...   \n",
              "97737  loved way friendship springs romance realized ...   \n",
              "...                                                  ...   \n",
              "25170      guess im trying say feeling overwhelmed bites   \n",
              "9567   starting feel like sitting much less sitting c...   \n",
              "11783  feel like ive running around without sense dir...   \n",
              "60910  feel disturbed recent experiences believe open...   \n",
              "72309  feel tonight eve tomorrows graduation ecstatic...   \n",
              "\n",
              "                                          splitted_words  \n",
              "17175                [cant, help, feel, amused, reading]  \n",
              "29573            [feel, vaguely, dissatisfied, recovery]  \n",
              "9684   [creep, factor, effectively, emulated, feel, c...  \n",
              "66745  [feel, everything, precious, started, fade, aw...  \n",
              "97737  [loved, way, friendship, springs, romance, rea...  \n",
              "...                                                  ...  \n",
              "25170  [guess, im, trying, say, feeling, overwhelmed,...  \n",
              "9567   [starting, feel, like, sitting, much, less, si...  \n",
              "11783  [feel, like, ive, running, around, without, se...  \n",
              "60910  [feel, disturbed, recent, experiences, believe...  \n",
              "72309  [feel, tonight, eve, tomorrows, graduation, ec...  \n",
              "\n",
              "[321469 rows x 2 columns]"
            ],
            "text/html": [
              "\n",
              "  <div id=\"df-2809a2ac-7346-461d-90af-be363452c5d1\">\n",
              "    <div class=\"colab-df-container\">\n",
              "      <div>\n",
              "<style scoped>\n",
              "    .dataframe tbody tr th:only-of-type {\n",
              "        vertical-align: middle;\n",
              "    }\n",
              "\n",
              "    .dataframe tbody tr th {\n",
              "        vertical-align: top;\n",
              "    }\n",
              "\n",
              "    .dataframe thead th {\n",
              "        text-align: right;\n",
              "    }\n",
              "</style>\n",
              "<table border=\"1\" class=\"dataframe\">\n",
              "  <thead>\n",
              "    <tr style=\"text-align: right;\">\n",
              "      <th></th>\n",
              "      <th>preprocessed_sentence</th>\n",
              "      <th>splitted_words</th>\n",
              "    </tr>\n",
              "  </thead>\n",
              "  <tbody>\n",
              "    <tr>\n",
              "      <th>17175</th>\n",
              "      <td>cant help feel amused reading</td>\n",
              "      <td>[cant, help, feel, amused, reading]</td>\n",
              "    </tr>\n",
              "    <tr>\n",
              "      <th>29573</th>\n",
              "      <td>feel vaguely dissatisfied recovery</td>\n",
              "      <td>[feel, vaguely, dissatisfied, recovery]</td>\n",
              "    </tr>\n",
              "    <tr>\n",
              "      <th>9684</th>\n",
              "      <td>creep factor effectively emulated feel cold wa...</td>\n",
              "      <td>[creep, factor, effectively, emulated, feel, c...</td>\n",
              "    </tr>\n",
              "    <tr>\n",
              "      <th>66745</th>\n",
              "      <td>feel everything precious started fade away esp...</td>\n",
              "      <td>[feel, everything, precious, started, fade, aw...</td>\n",
              "    </tr>\n",
              "    <tr>\n",
              "      <th>97737</th>\n",
              "      <td>loved way friendship springs romance realized ...</td>\n",
              "      <td>[loved, way, friendship, springs, romance, rea...</td>\n",
              "    </tr>\n",
              "    <tr>\n",
              "      <th>...</th>\n",
              "      <td>...</td>\n",
              "      <td>...</td>\n",
              "    </tr>\n",
              "    <tr>\n",
              "      <th>25170</th>\n",
              "      <td>guess im trying say feeling overwhelmed bites</td>\n",
              "      <td>[guess, im, trying, say, feeling, overwhelmed,...</td>\n",
              "    </tr>\n",
              "    <tr>\n",
              "      <th>9567</th>\n",
              "      <td>starting feel like sitting much less sitting c...</td>\n",
              "      <td>[starting, feel, like, sitting, much, less, si...</td>\n",
              "    </tr>\n",
              "    <tr>\n",
              "      <th>11783</th>\n",
              "      <td>feel like ive running around without sense dir...</td>\n",
              "      <td>[feel, like, ive, running, around, without, se...</td>\n",
              "    </tr>\n",
              "    <tr>\n",
              "      <th>60910</th>\n",
              "      <td>feel disturbed recent experiences believe open...</td>\n",
              "      <td>[feel, disturbed, recent, experiences, believe...</td>\n",
              "    </tr>\n",
              "    <tr>\n",
              "      <th>72309</th>\n",
              "      <td>feel tonight eve tomorrows graduation ecstatic...</td>\n",
              "      <td>[feel, tonight, eve, tomorrows, graduation, ec...</td>\n",
              "    </tr>\n",
              "  </tbody>\n",
              "</table>\n",
              "<p>321469 rows × 2 columns</p>\n",
              "</div>\n",
              "      <button class=\"colab-df-convert\" onclick=\"convertToInteractive('df-2809a2ac-7346-461d-90af-be363452c5d1')\"\n",
              "              title=\"Convert this dataframe to an interactive table.\"\n",
              "              style=\"display:none;\">\n",
              "        \n",
              "  <svg xmlns=\"http://www.w3.org/2000/svg\" height=\"24px\"viewBox=\"0 0 24 24\"\n",
              "       width=\"24px\">\n",
              "    <path d=\"M0 0h24v24H0V0z\" fill=\"none\"/>\n",
              "    <path d=\"M18.56 5.44l.94 2.06.94-2.06 2.06-.94-2.06-.94-.94-2.06-.94 2.06-2.06.94zm-11 1L8.5 8.5l.94-2.06 2.06-.94-2.06-.94L8.5 2.5l-.94 2.06-2.06.94zm10 10l.94 2.06.94-2.06 2.06-.94-2.06-.94-.94-2.06-.94 2.06-2.06.94z\"/><path d=\"M17.41 7.96l-1.37-1.37c-.4-.4-.92-.59-1.43-.59-.52 0-1.04.2-1.43.59L10.3 9.45l-7.72 7.72c-.78.78-.78 2.05 0 2.83L4 21.41c.39.39.9.59 1.41.59.51 0 1.02-.2 1.41-.59l7.78-7.78 2.81-2.81c.8-.78.8-2.07 0-2.86zM5.41 20L4 18.59l7.72-7.72 1.47 1.35L5.41 20z\"/>\n",
              "  </svg>\n",
              "      </button>\n",
              "      \n",
              "  <style>\n",
              "    .colab-df-container {\n",
              "      display:flex;\n",
              "      flex-wrap:wrap;\n",
              "      gap: 12px;\n",
              "    }\n",
              "\n",
              "    .colab-df-convert {\n",
              "      background-color: #E8F0FE;\n",
              "      border: none;\n",
              "      border-radius: 50%;\n",
              "      cursor: pointer;\n",
              "      display: none;\n",
              "      fill: #1967D2;\n",
              "      height: 32px;\n",
              "      padding: 0 0 0 0;\n",
              "      width: 32px;\n",
              "    }\n",
              "\n",
              "    .colab-df-convert:hover {\n",
              "      background-color: #E2EBFA;\n",
              "      box-shadow: 0px 1px 2px rgba(60, 64, 67, 0.3), 0px 1px 3px 1px rgba(60, 64, 67, 0.15);\n",
              "      fill: #174EA6;\n",
              "    }\n",
              "\n",
              "    [theme=dark] .colab-df-convert {\n",
              "      background-color: #3B4455;\n",
              "      fill: #D2E3FC;\n",
              "    }\n",
              "\n",
              "    [theme=dark] .colab-df-convert:hover {\n",
              "      background-color: #434B5C;\n",
              "      box-shadow: 0px 1px 3px 1px rgba(0, 0, 0, 0.15);\n",
              "      filter: drop-shadow(0px 1px 2px rgba(0, 0, 0, 0.3));\n",
              "      fill: #FFFFFF;\n",
              "    }\n",
              "  </style>\n",
              "\n",
              "      <script>\n",
              "        const buttonEl =\n",
              "          document.querySelector('#df-2809a2ac-7346-461d-90af-be363452c5d1 button.colab-df-convert');\n",
              "        buttonEl.style.display =\n",
              "          google.colab.kernel.accessAllowed ? 'block' : 'none';\n",
              "\n",
              "        async function convertToInteractive(key) {\n",
              "          const element = document.querySelector('#df-2809a2ac-7346-461d-90af-be363452c5d1');\n",
              "          const dataTable =\n",
              "            await google.colab.kernel.invokeFunction('convertToInteractive',\n",
              "                                                     [key], {});\n",
              "          if (!dataTable) return;\n",
              "\n",
              "          const docLinkHtml = 'Like what you see? Visit the ' +\n",
              "            '<a target=\"_blank\" href=https://colab.research.google.com/notebooks/data_table.ipynb>data table notebook</a>'\n",
              "            + ' to learn more about interactive tables.';\n",
              "          element.innerHTML = '';\n",
              "          dataTable['output_type'] = 'display_data';\n",
              "          await google.colab.output.renderOutput(dataTable, element);\n",
              "          const docLink = document.createElement('div');\n",
              "          docLink.innerHTML = docLinkHtml;\n",
              "          element.appendChild(docLink);\n",
              "        }\n",
              "      </script>\n",
              "    </div>\n",
              "  </div>\n",
              "  "
            ]
          },
          "metadata": {},
          "execution_count": 193
        }
      ],
      "source": [
        "X_train"
      ]
    },
    {
      "cell_type": "code",
      "execution_count": null,
      "metadata": {
        "id": "tQbpwGJdO5tx"
      },
      "outputs": [],
      "source": [
        "model = gensim.models.Word2Vec(X_train.splitted_words, min_count=1, size=50, window=5, workers=4)\n"
      ]
    },
    {
      "cell_type": "code",
      "execution_count": null,
      "metadata": {
        "id": "wA2K1HvwPqtW"
      },
      "outputs": [],
      "source": [
        "def calculate_avg_word_2_vec(dictionary, sentences):\n",
        "    list_of_word_vectors = [dictionary[w] for w in sentences if w in dictionary.vocab.keys()]\n",
        "    \n",
        "    if len(list_of_word_vectors) == 0:\n",
        "        result = [0.0]*50\n",
        "    else:\n",
        "        result = np.sum(list_of_word_vectors, axis=0) / len(list_of_word_vectors)\n",
        "        \n",
        "    return result\n"
      ]
    },
    {
      "cell_type": "code",
      "source": [
        "word_to_vec_Xtrain = X_train['splitted_words'].apply(lambda x: calculate_avg_word_2_vec(model.wv, x))\n",
        "word_to_vec_Xtest = X_test['splitted_words'].apply(lambda x: calculate_avg_word_2_vec(model.wv, x))"
      ],
      "metadata": {
        "id": "5evXwsF0dqxb"
      },
      "execution_count": null,
      "outputs": []
    },
    {
      "cell_type": "code",
      "execution_count": null,
      "metadata": {
        "id": "g5oolMSISDYU"
      },
      "outputs": [],
      "source": [
        "word_to_vec_Xtrain = pd.DataFrame(word_to_vec_Xtrain.values.tolist(), index= X_train.index)\n",
        "word_to_vec_Xtest = pd.DataFrame(word_to_vec_Xtest.values.tolist(), index= X_test.index)\n"
      ]
    },
    {
      "cell_type": "code",
      "source": [
        "word_to_vec_Xtrain = pd.concat([word_to_vec_Xtrain, X_train.drop(['preprocessed_sentence', 'splitted_words'], axis=1)], axis=1)\n",
        "word_to_vec_Xtest = pd.concat([word_to_vec_Xtest, X_test.drop(['preprocessed_sentence', 'splitted_words'], axis=1)], axis=1)"
      ],
      "metadata": {
        "id": "O_uBWflfdudo"
      },
      "execution_count": null,
      "outputs": []
    },
    {
      "cell_type": "code",
      "execution_count": null,
      "metadata": {
        "id": "8TxFEqGhPRQU"
      },
      "outputs": [],
      "source": [
        "Encoder = LabelEncoder()\n",
        "y_train = Encoder.fit_transform(y_train)\n",
        "y_test = Encoder.fit_transform(y_test)"
      ]
    },
    {
      "cell_type": "code",
      "source": [
        "import joblib"
      ],
      "metadata": {
        "id": "f3Ncef6ud-rd"
      },
      "execution_count": null,
      "outputs": []
    },
    {
      "cell_type": "code",
      "execution_count": null,
      "metadata": {
        "id": "HmEXoDYkLdJv",
        "colab": {
          "base_uri": "https://localhost:8080/"
        },
        "outputId": "cb65c8a7-7f78-4d33-b95b-12c9ddd5ea13"
      },
      "outputs": [
        {
          "output_type": "stream",
          "name": "stdout",
          "text": [
            "Accuracy:  65.75378260003981\n"
          ]
        }
      ],
      "source": [
        "model_logreg = LogisticRegression(max_iter = 1000)\n",
        "\n",
        "model_logreg.fit(word_to_vec_Xtrain,y_train)\n",
        "joblib.dump(model_logreg, 'model_logreg.pkl')\n",
        "\n",
        "model_logreg = joblib.load('model_logreg.pkl')\n",
        "predictions = model_logreg.predict(word_to_vec_Xtest)\n",
        "\n",
        "print(\"Accuracy: \",accuracy_score(predictions, y_test)*100)"
      ]
    },
    {
      "cell_type": "code",
      "source": [
        "report = classification_report(y_test, predictions, output_dict=True)\n",
        "c1 = pd.DataFrame(report).transpose()\n",
        "c1"
      ],
      "metadata": {
        "colab": {
          "base_uri": "https://localhost:8080/",
          "height": 300
        },
        "id": "nEcboyjML0VN",
        "outputId": "9e02ba64-5e70-4e81-b19c-bfab9a502de7"
      },
      "execution_count": null,
      "outputs": [
        {
          "output_type": "execute_result",
          "data": {
            "text/plain": [
              "              precision    recall  f1-score       support\n",
              "0              0.597922  0.423280  0.495668  11555.000000\n",
              "1              0.631150  0.453278  0.527626   9396.000000\n",
              "2              0.717989  0.845277  0.776451  28147.000000\n",
              "3              0.539743  0.282044  0.370488   7006.000000\n",
              "4              0.625899  0.738831  0.677693  24264.000000\n",
              "accuracy       0.657538  0.657538  0.657538      0.657538\n",
              "macro avg      0.622541  0.548542  0.569585  80368.000000\n",
              "weighted avg   0.647232  0.657538  0.641785  80368.000000"
            ],
            "text/html": [
              "\n",
              "  <div id=\"df-28caa513-8e10-462e-9404-450f035016bf\">\n",
              "    <div class=\"colab-df-container\">\n",
              "      <div>\n",
              "<style scoped>\n",
              "    .dataframe tbody tr th:only-of-type {\n",
              "        vertical-align: middle;\n",
              "    }\n",
              "\n",
              "    .dataframe tbody tr th {\n",
              "        vertical-align: top;\n",
              "    }\n",
              "\n",
              "    .dataframe thead th {\n",
              "        text-align: right;\n",
              "    }\n",
              "</style>\n",
              "<table border=\"1\" class=\"dataframe\">\n",
              "  <thead>\n",
              "    <tr style=\"text-align: right;\">\n",
              "      <th></th>\n",
              "      <th>precision</th>\n",
              "      <th>recall</th>\n",
              "      <th>f1-score</th>\n",
              "      <th>support</th>\n",
              "    </tr>\n",
              "  </thead>\n",
              "  <tbody>\n",
              "    <tr>\n",
              "      <th>0</th>\n",
              "      <td>0.597922</td>\n",
              "      <td>0.423280</td>\n",
              "      <td>0.495668</td>\n",
              "      <td>11555.000000</td>\n",
              "    </tr>\n",
              "    <tr>\n",
              "      <th>1</th>\n",
              "      <td>0.631150</td>\n",
              "      <td>0.453278</td>\n",
              "      <td>0.527626</td>\n",
              "      <td>9396.000000</td>\n",
              "    </tr>\n",
              "    <tr>\n",
              "      <th>2</th>\n",
              "      <td>0.717989</td>\n",
              "      <td>0.845277</td>\n",
              "      <td>0.776451</td>\n",
              "      <td>28147.000000</td>\n",
              "    </tr>\n",
              "    <tr>\n",
              "      <th>3</th>\n",
              "      <td>0.539743</td>\n",
              "      <td>0.282044</td>\n",
              "      <td>0.370488</td>\n",
              "      <td>7006.000000</td>\n",
              "    </tr>\n",
              "    <tr>\n",
              "      <th>4</th>\n",
              "      <td>0.625899</td>\n",
              "      <td>0.738831</td>\n",
              "      <td>0.677693</td>\n",
              "      <td>24264.000000</td>\n",
              "    </tr>\n",
              "    <tr>\n",
              "      <th>accuracy</th>\n",
              "      <td>0.657538</td>\n",
              "      <td>0.657538</td>\n",
              "      <td>0.657538</td>\n",
              "      <td>0.657538</td>\n",
              "    </tr>\n",
              "    <tr>\n",
              "      <th>macro avg</th>\n",
              "      <td>0.622541</td>\n",
              "      <td>0.548542</td>\n",
              "      <td>0.569585</td>\n",
              "      <td>80368.000000</td>\n",
              "    </tr>\n",
              "    <tr>\n",
              "      <th>weighted avg</th>\n",
              "      <td>0.647232</td>\n",
              "      <td>0.657538</td>\n",
              "      <td>0.641785</td>\n",
              "      <td>80368.000000</td>\n",
              "    </tr>\n",
              "  </tbody>\n",
              "</table>\n",
              "</div>\n",
              "      <button class=\"colab-df-convert\" onclick=\"convertToInteractive('df-28caa513-8e10-462e-9404-450f035016bf')\"\n",
              "              title=\"Convert this dataframe to an interactive table.\"\n",
              "              style=\"display:none;\">\n",
              "        \n",
              "  <svg xmlns=\"http://www.w3.org/2000/svg\" height=\"24px\"viewBox=\"0 0 24 24\"\n",
              "       width=\"24px\">\n",
              "    <path d=\"M0 0h24v24H0V0z\" fill=\"none\"/>\n",
              "    <path d=\"M18.56 5.44l.94 2.06.94-2.06 2.06-.94-2.06-.94-.94-2.06-.94 2.06-2.06.94zm-11 1L8.5 8.5l.94-2.06 2.06-.94-2.06-.94L8.5 2.5l-.94 2.06-2.06.94zm10 10l.94 2.06.94-2.06 2.06-.94-2.06-.94-.94-2.06-.94 2.06-2.06.94z\"/><path d=\"M17.41 7.96l-1.37-1.37c-.4-.4-.92-.59-1.43-.59-.52 0-1.04.2-1.43.59L10.3 9.45l-7.72 7.72c-.78.78-.78 2.05 0 2.83L4 21.41c.39.39.9.59 1.41.59.51 0 1.02-.2 1.41-.59l7.78-7.78 2.81-2.81c.8-.78.8-2.07 0-2.86zM5.41 20L4 18.59l7.72-7.72 1.47 1.35L5.41 20z\"/>\n",
              "  </svg>\n",
              "      </button>\n",
              "      \n",
              "  <style>\n",
              "    .colab-df-container {\n",
              "      display:flex;\n",
              "      flex-wrap:wrap;\n",
              "      gap: 12px;\n",
              "    }\n",
              "\n",
              "    .colab-df-convert {\n",
              "      background-color: #E8F0FE;\n",
              "      border: none;\n",
              "      border-radius: 50%;\n",
              "      cursor: pointer;\n",
              "      display: none;\n",
              "      fill: #1967D2;\n",
              "      height: 32px;\n",
              "      padding: 0 0 0 0;\n",
              "      width: 32px;\n",
              "    }\n",
              "\n",
              "    .colab-df-convert:hover {\n",
              "      background-color: #E2EBFA;\n",
              "      box-shadow: 0px 1px 2px rgba(60, 64, 67, 0.3), 0px 1px 3px 1px rgba(60, 64, 67, 0.15);\n",
              "      fill: #174EA6;\n",
              "    }\n",
              "\n",
              "    [theme=dark] .colab-df-convert {\n",
              "      background-color: #3B4455;\n",
              "      fill: #D2E3FC;\n",
              "    }\n",
              "\n",
              "    [theme=dark] .colab-df-convert:hover {\n",
              "      background-color: #434B5C;\n",
              "      box-shadow: 0px 1px 3px 1px rgba(0, 0, 0, 0.15);\n",
              "      filter: drop-shadow(0px 1px 2px rgba(0, 0, 0, 0.3));\n",
              "      fill: #FFFFFF;\n",
              "    }\n",
              "  </style>\n",
              "\n",
              "      <script>\n",
              "        const buttonEl =\n",
              "          document.querySelector('#df-28caa513-8e10-462e-9404-450f035016bf button.colab-df-convert');\n",
              "        buttonEl.style.display =\n",
              "          google.colab.kernel.accessAllowed ? 'block' : 'none';\n",
              "\n",
              "        async function convertToInteractive(key) {\n",
              "          const element = document.querySelector('#df-28caa513-8e10-462e-9404-450f035016bf');\n",
              "          const dataTable =\n",
              "            await google.colab.kernel.invokeFunction('convertToInteractive',\n",
              "                                                     [key], {});\n",
              "          if (!dataTable) return;\n",
              "\n",
              "          const docLinkHtml = 'Like what you see? Visit the ' +\n",
              "            '<a target=\"_blank\" href=https://colab.research.google.com/notebooks/data_table.ipynb>data table notebook</a>'\n",
              "            + ' to learn more about interactive tables.';\n",
              "          element.innerHTML = '';\n",
              "          dataTable['output_type'] = 'display_data';\n",
              "          await google.colab.output.renderOutput(dataTable, element);\n",
              "          const docLink = document.createElement('div');\n",
              "          docLink.innerHTML = docLinkHtml;\n",
              "          element.appendChild(docLink);\n",
              "        }\n",
              "      </script>\n",
              "    </div>\n",
              "  </div>\n",
              "  "
            ]
          },
          "metadata": {},
          "execution_count": 202
        }
      ]
    },
    {
      "cell_type": "code",
      "execution_count": null,
      "metadata": {
        "id": "qN5d7fAhsC05",
        "colab": {
          "base_uri": "https://localhost:8080/"
        },
        "outputId": "15c68c97-ebe3-4a61-9be8-611efe73bae9"
      },
      "outputs": [
        {
          "output_type": "stream",
          "name": "stdout",
          "text": [
            "Accuracy:  61.243280907824\n"
          ]
        }
      ],
      "source": [
        "model_ranfor = RandomForestClassifier()\n",
        "\n",
        "model_ranfor.fit(word_to_vec_Xtrain,y_train)\n",
        "joblib.dump(model_ranfor, 'model_ranfor.pkl')\n",
        "\n",
        "model_ranfor = joblib.load('model_ranfor.pkl')\n",
        "predictions = model_ranfor.predict(word_to_vec_Xtest)\n",
        "\n",
        "print(\"Accuracy: \",accuracy_score(predictions, y_test)*100)"
      ]
    },
    {
      "cell_type": "code",
      "execution_count": null,
      "metadata": {
        "id": "_ICN_9voM9SG",
        "colab": {
          "base_uri": "https://localhost:8080/",
          "height": 300
        },
        "outputId": "d087d050-82ef-4fc9-c07e-6a03211dff90"
      },
      "outputs": [
        {
          "output_type": "execute_result",
          "data": {
            "text/plain": [
              "              precision    recall  f1-score       support\n",
              "0              0.613211  0.306101  0.408359  11555.000000\n",
              "1              0.633032  0.275756  0.384165   9396.000000\n",
              "2              0.651757  0.833481  0.731502  28147.000000\n",
              "3              0.362799  0.151727  0.213969   7006.000000\n",
              "4              0.587961  0.765290  0.665007  24264.000000\n",
              "accuracy       0.612433  0.612433  0.612433      0.612433\n",
              "macro avg      0.569752  0.466471  0.480600  80368.000000\n",
              "weighted avg   0.599576  0.612433  0.579243  80368.000000"
            ],
            "text/html": [
              "\n",
              "  <div id=\"df-11933f2a-ba35-4964-9bb2-e399ea3596e6\">\n",
              "    <div class=\"colab-df-container\">\n",
              "      <div>\n",
              "<style scoped>\n",
              "    .dataframe tbody tr th:only-of-type {\n",
              "        vertical-align: middle;\n",
              "    }\n",
              "\n",
              "    .dataframe tbody tr th {\n",
              "        vertical-align: top;\n",
              "    }\n",
              "\n",
              "    .dataframe thead th {\n",
              "        text-align: right;\n",
              "    }\n",
              "</style>\n",
              "<table border=\"1\" class=\"dataframe\">\n",
              "  <thead>\n",
              "    <tr style=\"text-align: right;\">\n",
              "      <th></th>\n",
              "      <th>precision</th>\n",
              "      <th>recall</th>\n",
              "      <th>f1-score</th>\n",
              "      <th>support</th>\n",
              "    </tr>\n",
              "  </thead>\n",
              "  <tbody>\n",
              "    <tr>\n",
              "      <th>0</th>\n",
              "      <td>0.613211</td>\n",
              "      <td>0.306101</td>\n",
              "      <td>0.408359</td>\n",
              "      <td>11555.000000</td>\n",
              "    </tr>\n",
              "    <tr>\n",
              "      <th>1</th>\n",
              "      <td>0.633032</td>\n",
              "      <td>0.275756</td>\n",
              "      <td>0.384165</td>\n",
              "      <td>9396.000000</td>\n",
              "    </tr>\n",
              "    <tr>\n",
              "      <th>2</th>\n",
              "      <td>0.651757</td>\n",
              "      <td>0.833481</td>\n",
              "      <td>0.731502</td>\n",
              "      <td>28147.000000</td>\n",
              "    </tr>\n",
              "    <tr>\n",
              "      <th>3</th>\n",
              "      <td>0.362799</td>\n",
              "      <td>0.151727</td>\n",
              "      <td>0.213969</td>\n",
              "      <td>7006.000000</td>\n",
              "    </tr>\n",
              "    <tr>\n",
              "      <th>4</th>\n",
              "      <td>0.587961</td>\n",
              "      <td>0.765290</td>\n",
              "      <td>0.665007</td>\n",
              "      <td>24264.000000</td>\n",
              "    </tr>\n",
              "    <tr>\n",
              "      <th>accuracy</th>\n",
              "      <td>0.612433</td>\n",
              "      <td>0.612433</td>\n",
              "      <td>0.612433</td>\n",
              "      <td>0.612433</td>\n",
              "    </tr>\n",
              "    <tr>\n",
              "      <th>macro avg</th>\n",
              "      <td>0.569752</td>\n",
              "      <td>0.466471</td>\n",
              "      <td>0.480600</td>\n",
              "      <td>80368.000000</td>\n",
              "    </tr>\n",
              "    <tr>\n",
              "      <th>weighted avg</th>\n",
              "      <td>0.599576</td>\n",
              "      <td>0.612433</td>\n",
              "      <td>0.579243</td>\n",
              "      <td>80368.000000</td>\n",
              "    </tr>\n",
              "  </tbody>\n",
              "</table>\n",
              "</div>\n",
              "      <button class=\"colab-df-convert\" onclick=\"convertToInteractive('df-11933f2a-ba35-4964-9bb2-e399ea3596e6')\"\n",
              "              title=\"Convert this dataframe to an interactive table.\"\n",
              "              style=\"display:none;\">\n",
              "        \n",
              "  <svg xmlns=\"http://www.w3.org/2000/svg\" height=\"24px\"viewBox=\"0 0 24 24\"\n",
              "       width=\"24px\">\n",
              "    <path d=\"M0 0h24v24H0V0z\" fill=\"none\"/>\n",
              "    <path d=\"M18.56 5.44l.94 2.06.94-2.06 2.06-.94-2.06-.94-.94-2.06-.94 2.06-2.06.94zm-11 1L8.5 8.5l.94-2.06 2.06-.94-2.06-.94L8.5 2.5l-.94 2.06-2.06.94zm10 10l.94 2.06.94-2.06 2.06-.94-2.06-.94-.94-2.06-.94 2.06-2.06.94z\"/><path d=\"M17.41 7.96l-1.37-1.37c-.4-.4-.92-.59-1.43-.59-.52 0-1.04.2-1.43.59L10.3 9.45l-7.72 7.72c-.78.78-.78 2.05 0 2.83L4 21.41c.39.39.9.59 1.41.59.51 0 1.02-.2 1.41-.59l7.78-7.78 2.81-2.81c.8-.78.8-2.07 0-2.86zM5.41 20L4 18.59l7.72-7.72 1.47 1.35L5.41 20z\"/>\n",
              "  </svg>\n",
              "      </button>\n",
              "      \n",
              "  <style>\n",
              "    .colab-df-container {\n",
              "      display:flex;\n",
              "      flex-wrap:wrap;\n",
              "      gap: 12px;\n",
              "    }\n",
              "\n",
              "    .colab-df-convert {\n",
              "      background-color: #E8F0FE;\n",
              "      border: none;\n",
              "      border-radius: 50%;\n",
              "      cursor: pointer;\n",
              "      display: none;\n",
              "      fill: #1967D2;\n",
              "      height: 32px;\n",
              "      padding: 0 0 0 0;\n",
              "      width: 32px;\n",
              "    }\n",
              "\n",
              "    .colab-df-convert:hover {\n",
              "      background-color: #E2EBFA;\n",
              "      box-shadow: 0px 1px 2px rgba(60, 64, 67, 0.3), 0px 1px 3px 1px rgba(60, 64, 67, 0.15);\n",
              "      fill: #174EA6;\n",
              "    }\n",
              "\n",
              "    [theme=dark] .colab-df-convert {\n",
              "      background-color: #3B4455;\n",
              "      fill: #D2E3FC;\n",
              "    }\n",
              "\n",
              "    [theme=dark] .colab-df-convert:hover {\n",
              "      background-color: #434B5C;\n",
              "      box-shadow: 0px 1px 3px 1px rgba(0, 0, 0, 0.15);\n",
              "      filter: drop-shadow(0px 1px 2px rgba(0, 0, 0, 0.3));\n",
              "      fill: #FFFFFF;\n",
              "    }\n",
              "  </style>\n",
              "\n",
              "      <script>\n",
              "        const buttonEl =\n",
              "          document.querySelector('#df-11933f2a-ba35-4964-9bb2-e399ea3596e6 button.colab-df-convert');\n",
              "        buttonEl.style.display =\n",
              "          google.colab.kernel.accessAllowed ? 'block' : 'none';\n",
              "\n",
              "        async function convertToInteractive(key) {\n",
              "          const element = document.querySelector('#df-11933f2a-ba35-4964-9bb2-e399ea3596e6');\n",
              "          const dataTable =\n",
              "            await google.colab.kernel.invokeFunction('convertToInteractive',\n",
              "                                                     [key], {});\n",
              "          if (!dataTable) return;\n",
              "\n",
              "          const docLinkHtml = 'Like what you see? Visit the ' +\n",
              "            '<a target=\"_blank\" href=https://colab.research.google.com/notebooks/data_table.ipynb>data table notebook</a>'\n",
              "            + ' to learn more about interactive tables.';\n",
              "          element.innerHTML = '';\n",
              "          dataTable['output_type'] = 'display_data';\n",
              "          await google.colab.output.renderOutput(dataTable, element);\n",
              "          const docLink = document.createElement('div');\n",
              "          docLink.innerHTML = docLinkHtml;\n",
              "          element.appendChild(docLink);\n",
              "        }\n",
              "      </script>\n",
              "    </div>\n",
              "  </div>\n",
              "  "
            ]
          },
          "metadata": {},
          "execution_count": 204
        }
      ],
      "source": [
        "report = classification_report(y_test, predictions, output_dict=True)\n",
        "c2 = pd.DataFrame(report).transpose()\n",
        "c2"
      ]
    },
    {
      "cell_type": "code",
      "source": [
        "clf = DecisionTreeClassifier(random_state=0)\n",
        "\n",
        "clf.fit(word_to_vec_Xtrain, y_train)\n",
        "joblib.dump(clf, 'clf.pkl')\n",
        "\n",
        "clf = joblib.load('clf.pkl')\n",
        "y_pred=clf.predict(word_to_vec_Xtest)\n",
        "\n",
        "accuracy_score(y_pred,y_test)"
      ],
      "metadata": {
        "colab": {
          "base_uri": "https://localhost:8080/"
        },
        "id": "mjyw2aCsL9RP",
        "outputId": "78e7e597-9ec9-460b-e047-d9a5d56363fd"
      },
      "execution_count": null,
      "outputs": [
        {
          "output_type": "execute_result",
          "data": {
            "text/plain": [
              "0.45546735018913"
            ]
          },
          "metadata": {},
          "execution_count": 205
        }
      ]
    },
    {
      "cell_type": "code",
      "source": [
        "report = classification_report(y_test, predictions, output_dict=True)\n",
        "c3 = pd.DataFrame(report).transpose()\n",
        "c3"
      ],
      "metadata": {
        "colab": {
          "base_uri": "https://localhost:8080/",
          "height": 300
        },
        "id": "xneLS-uPMGmc",
        "outputId": "9fe8e93d-c7be-4acf-a9fd-1a343483afa9"
      },
      "execution_count": null,
      "outputs": [
        {
          "output_type": "execute_result",
          "data": {
            "text/plain": [
              "              precision    recall  f1-score       support\n",
              "0              0.613211  0.306101  0.408359  11555.000000\n",
              "1              0.633032  0.275756  0.384165   9396.000000\n",
              "2              0.651757  0.833481  0.731502  28147.000000\n",
              "3              0.362799  0.151727  0.213969   7006.000000\n",
              "4              0.587961  0.765290  0.665007  24264.000000\n",
              "accuracy       0.612433  0.612433  0.612433      0.612433\n",
              "macro avg      0.569752  0.466471  0.480600  80368.000000\n",
              "weighted avg   0.599576  0.612433  0.579243  80368.000000"
            ],
            "text/html": [
              "\n",
              "  <div id=\"df-791ac163-2110-4957-9304-7275672d1cf7\">\n",
              "    <div class=\"colab-df-container\">\n",
              "      <div>\n",
              "<style scoped>\n",
              "    .dataframe tbody tr th:only-of-type {\n",
              "        vertical-align: middle;\n",
              "    }\n",
              "\n",
              "    .dataframe tbody tr th {\n",
              "        vertical-align: top;\n",
              "    }\n",
              "\n",
              "    .dataframe thead th {\n",
              "        text-align: right;\n",
              "    }\n",
              "</style>\n",
              "<table border=\"1\" class=\"dataframe\">\n",
              "  <thead>\n",
              "    <tr style=\"text-align: right;\">\n",
              "      <th></th>\n",
              "      <th>precision</th>\n",
              "      <th>recall</th>\n",
              "      <th>f1-score</th>\n",
              "      <th>support</th>\n",
              "    </tr>\n",
              "  </thead>\n",
              "  <tbody>\n",
              "    <tr>\n",
              "      <th>0</th>\n",
              "      <td>0.613211</td>\n",
              "      <td>0.306101</td>\n",
              "      <td>0.408359</td>\n",
              "      <td>11555.000000</td>\n",
              "    </tr>\n",
              "    <tr>\n",
              "      <th>1</th>\n",
              "      <td>0.633032</td>\n",
              "      <td>0.275756</td>\n",
              "      <td>0.384165</td>\n",
              "      <td>9396.000000</td>\n",
              "    </tr>\n",
              "    <tr>\n",
              "      <th>2</th>\n",
              "      <td>0.651757</td>\n",
              "      <td>0.833481</td>\n",
              "      <td>0.731502</td>\n",
              "      <td>28147.000000</td>\n",
              "    </tr>\n",
              "    <tr>\n",
              "      <th>3</th>\n",
              "      <td>0.362799</td>\n",
              "      <td>0.151727</td>\n",
              "      <td>0.213969</td>\n",
              "      <td>7006.000000</td>\n",
              "    </tr>\n",
              "    <tr>\n",
              "      <th>4</th>\n",
              "      <td>0.587961</td>\n",
              "      <td>0.765290</td>\n",
              "      <td>0.665007</td>\n",
              "      <td>24264.000000</td>\n",
              "    </tr>\n",
              "    <tr>\n",
              "      <th>accuracy</th>\n",
              "      <td>0.612433</td>\n",
              "      <td>0.612433</td>\n",
              "      <td>0.612433</td>\n",
              "      <td>0.612433</td>\n",
              "    </tr>\n",
              "    <tr>\n",
              "      <th>macro avg</th>\n",
              "      <td>0.569752</td>\n",
              "      <td>0.466471</td>\n",
              "      <td>0.480600</td>\n",
              "      <td>80368.000000</td>\n",
              "    </tr>\n",
              "    <tr>\n",
              "      <th>weighted avg</th>\n",
              "      <td>0.599576</td>\n",
              "      <td>0.612433</td>\n",
              "      <td>0.579243</td>\n",
              "      <td>80368.000000</td>\n",
              "    </tr>\n",
              "  </tbody>\n",
              "</table>\n",
              "</div>\n",
              "      <button class=\"colab-df-convert\" onclick=\"convertToInteractive('df-791ac163-2110-4957-9304-7275672d1cf7')\"\n",
              "              title=\"Convert this dataframe to an interactive table.\"\n",
              "              style=\"display:none;\">\n",
              "        \n",
              "  <svg xmlns=\"http://www.w3.org/2000/svg\" height=\"24px\"viewBox=\"0 0 24 24\"\n",
              "       width=\"24px\">\n",
              "    <path d=\"M0 0h24v24H0V0z\" fill=\"none\"/>\n",
              "    <path d=\"M18.56 5.44l.94 2.06.94-2.06 2.06-.94-2.06-.94-.94-2.06-.94 2.06-2.06.94zm-11 1L8.5 8.5l.94-2.06 2.06-.94-2.06-.94L8.5 2.5l-.94 2.06-2.06.94zm10 10l.94 2.06.94-2.06 2.06-.94-2.06-.94-.94-2.06-.94 2.06-2.06.94z\"/><path d=\"M17.41 7.96l-1.37-1.37c-.4-.4-.92-.59-1.43-.59-.52 0-1.04.2-1.43.59L10.3 9.45l-7.72 7.72c-.78.78-.78 2.05 0 2.83L4 21.41c.39.39.9.59 1.41.59.51 0 1.02-.2 1.41-.59l7.78-7.78 2.81-2.81c.8-.78.8-2.07 0-2.86zM5.41 20L4 18.59l7.72-7.72 1.47 1.35L5.41 20z\"/>\n",
              "  </svg>\n",
              "      </button>\n",
              "      \n",
              "  <style>\n",
              "    .colab-df-container {\n",
              "      display:flex;\n",
              "      flex-wrap:wrap;\n",
              "      gap: 12px;\n",
              "    }\n",
              "\n",
              "    .colab-df-convert {\n",
              "      background-color: #E8F0FE;\n",
              "      border: none;\n",
              "      border-radius: 50%;\n",
              "      cursor: pointer;\n",
              "      display: none;\n",
              "      fill: #1967D2;\n",
              "      height: 32px;\n",
              "      padding: 0 0 0 0;\n",
              "      width: 32px;\n",
              "    }\n",
              "\n",
              "    .colab-df-convert:hover {\n",
              "      background-color: #E2EBFA;\n",
              "      box-shadow: 0px 1px 2px rgba(60, 64, 67, 0.3), 0px 1px 3px 1px rgba(60, 64, 67, 0.15);\n",
              "      fill: #174EA6;\n",
              "    }\n",
              "\n",
              "    [theme=dark] .colab-df-convert {\n",
              "      background-color: #3B4455;\n",
              "      fill: #D2E3FC;\n",
              "    }\n",
              "\n",
              "    [theme=dark] .colab-df-convert:hover {\n",
              "      background-color: #434B5C;\n",
              "      box-shadow: 0px 1px 3px 1px rgba(0, 0, 0, 0.15);\n",
              "      filter: drop-shadow(0px 1px 2px rgba(0, 0, 0, 0.3));\n",
              "      fill: #FFFFFF;\n",
              "    }\n",
              "  </style>\n",
              "\n",
              "      <script>\n",
              "        const buttonEl =\n",
              "          document.querySelector('#df-791ac163-2110-4957-9304-7275672d1cf7 button.colab-df-convert');\n",
              "        buttonEl.style.display =\n",
              "          google.colab.kernel.accessAllowed ? 'block' : 'none';\n",
              "\n",
              "        async function convertToInteractive(key) {\n",
              "          const element = document.querySelector('#df-791ac163-2110-4957-9304-7275672d1cf7');\n",
              "          const dataTable =\n",
              "            await google.colab.kernel.invokeFunction('convertToInteractive',\n",
              "                                                     [key], {});\n",
              "          if (!dataTable) return;\n",
              "\n",
              "          const docLinkHtml = 'Like what you see? Visit the ' +\n",
              "            '<a target=\"_blank\" href=https://colab.research.google.com/notebooks/data_table.ipynb>data table notebook</a>'\n",
              "            + ' to learn more about interactive tables.';\n",
              "          element.innerHTML = '';\n",
              "          dataTable['output_type'] = 'display_data';\n",
              "          await google.colab.output.renderOutput(dataTable, element);\n",
              "          const docLink = document.createElement('div');\n",
              "          docLink.innerHTML = docLinkHtml;\n",
              "          element.appendChild(docLink);\n",
              "        }\n",
              "      </script>\n",
              "    </div>\n",
              "  </div>\n",
              "  "
            ]
          },
          "metadata": {},
          "execution_count": 206
        }
      ]
    },
    {
      "cell_type": "code",
      "source": [
        ""
      ],
      "metadata": {
        "id": "ToJ3lDFkMJBa"
      },
      "execution_count": null,
      "outputs": []
    }
  ],
  "metadata": {
    "colab": {
      "collapsed_sections": [],
      "name": "Edited IR_PROJECT_RandomForest.ipynb",
      "provenance": [],
      "history_visible": true
    },
    "kernelspec": {
      "display_name": "Python 3",
      "name": "python3"
    },
    "language_info": {
      "name": "python"
    }
  },
  "nbformat": 4,
  "nbformat_minor": 0
}